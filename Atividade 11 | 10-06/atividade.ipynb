{
 "cells": [
  {
   "cell_type": "markdown",
   "metadata": {},
   "source": [
    "# Atividades\n",
    "\n",
    "1. Criar um set"
   ]
  },
  {
   "cell_type": "code",
   "execution_count": 3,
   "metadata": {},
   "outputs": [
    {
     "name": "stdout",
     "output_type": "stream",
     "text": [
      "Set: {32.0, (6, 7), 'Node', 'nome'}\n"
     ]
    }
   ],
   "source": [
    "meu_set = {'nome', 32.00, 'Node', (6, 7)}\n",
    "print(\"Set:\", meu_set)"
   ]
  },
  {
   "cell_type": "markdown",
   "metadata": {},
   "source": [
    "2. Criar uma list"
   ]
  },
  {
   "cell_type": "code",
   "execution_count": 4,
   "metadata": {},
   "outputs": [
    {
     "name": "stdout",
     "output_type": "stream",
     "text": [
      "List: ['nome', 32.0, 'Node', (6, 7), 'nome']\n"
     ]
    }
   ],
   "source": [
    "minha_lista = ['nome', 32.00, 'Node', (6, 7), 'nome']\n",
    "print(\"List:\", minha_lista)"
   ]
  },
  {
   "cell_type": "markdown",
   "metadata": {},
   "source": [
    "3. Testar as caracteristicas e diferenças com código"
   ]
  },
  {
   "cell_type": "code",
   "execution_count": 5,
   "metadata": {},
   "outputs": [
    {
     "name": "stdout",
     "output_type": "stream",
     "text": [
      "\n",
      "Set com elemento duplicado adicionado: {32.0, (6, 7), 'Node', 'nome'}\n",
      "List com elemento duplicado adicionado: ['nome', 32.0, 'Node', (6, 7), 'nome']\n",
      "\n",
      "Set não mantém a ordem (a ordem pode variar): {32.0, (6, 7), 'Node', 'nome'}\n",
      "List mantém a ordem: ['nome', 32.0, 'Node', (6, 7), 'nome']\n",
      "\n",
      "Tentando acessar elementos por índice:\n",
      "Erro ao acessar set por índice: 'set' object is not subscriptable\n",
      "Primeiro elemento da lista: nome\n",
      "\n",
      "Testando a mutabilidade:\n",
      "Set após adicionar elemento: {32.0, 'nome', (6, 7), 'Node', 'novo_elemento'}\n",
      "List após adicionar elemento: ['nome', 32.0, 'Node', (6, 7), 'nome', 'novo_elemento']\n",
      "\n",
      "Set com diferentes tipos de dados: {frozenset({3, 4}), (1, 2), 45.67, 'texto', 123}\n",
      "List com diferentes tipos de dados: ['texto', 123, 45.67, [1, 2], {3, 4}]\n"
     ]
    }
   ],
   "source": [
    "# Testando a característica de elementos duplicados\n",
    "meu_set_com_duplicados = {'nome', 32.00, 'Node', (6, 7), 'nome'}\n",
    "minha_lista_com_duplicados = ['nome', 32.00, 'Node', (6, 7), 'nome']\n",
    "\n",
    "print(\"\\nSet com elemento duplicado adicionado:\", meu_set_com_duplicados)  # Não permite duplicatas\n",
    "print(\"List com elemento duplicado adicionado:\", minha_lista_com_duplicados)  # Permite duplicatas\n",
    "\n",
    "# Testando a característica de ordem\n",
    "print(\"\\nSet não mantém a ordem (a ordem pode variar):\", meu_set)  # Ordem não garantida\n",
    "print(\"List mantém a ordem:\", minha_lista)  # Ordem garantida\n",
    "\n",
    "# Testando a característica de índices\n",
    "# Em Set não podemos acessar elementos por índice\n",
    "# Em List podemos acessar elementos por índice\n",
    "print(\"\\nTentando acessar elementos por índice:\")\n",
    "try:\n",
    "    print(\"Primeiro elemento do set (não permitido):\", meu_set[0])\n",
    "except TypeError as e:\n",
    "    print(\"Erro ao acessar set por índice:\", e)\n",
    "\n",
    "print(\"Primeiro elemento da lista:\", minha_lista[0])  # Permite acessar por índice\n",
    "\n",
    "# Testando a mutabilidade\n",
    "print(\"\\nTestando a mutabilidade:\")\n",
    "try:\n",
    "    meu_set.add('novo_elemento')\n",
    "    print(\"Set após adicionar elemento:\", meu_set)\n",
    "except Exception as e:\n",
    "    print(\"Erro ao modificar o set:\", e)\n",
    "\n",
    "minha_lista.append('novo_elemento')\n",
    "print(\"List após adicionar elemento:\", minha_lista)\n",
    "\n",
    "# Testando a capacidade de armazenar diferentes tipos de dados\n",
    "meu_set_misturado = {'texto', 123, 45.67, (1, 2), frozenset({3, 4})}\n",
    "minha_lista_misturada = ['texto', 123, 45.67, [1, 2], {3, 4}]\n",
    "\n",
    "print(\"\\nSet com diferentes tipos de dados:\", meu_set_misturado)\n",
    "print(\"List com diferentes tipos de dados:\", minha_lista_misturada)\n"
   ]
  },
  {
   "cell_type": "markdown",
   "metadata": {},
   "source": [
    "4. Criar um Dict"
   ]
  },
  {
   "cell_type": "code",
   "execution_count": 6,
   "metadata": {},
   "outputs": [
    {
     "name": "stdout",
     "output_type": "stream",
     "text": [
      "Dict: {'nome': 'João', 'idade': 25, 'altura': 1.75}\n"
     ]
    }
   ],
   "source": [
    "meu_dict = {'nome': 'João', 'idade': 25, 'altura': 1.75}\n",
    "print(\"Dict:\", meu_dict)"
   ]
  },
  {
   "cell_type": "markdown",
   "metadata": {},
   "source": [
    "5. Montar um cadastro básico de pessoas: Nome, Idade e Altura"
   ]
  },
  {
   "cell_type": "code",
   "execution_count": 10,
   "metadata": {},
   "outputs": [
    {
     "name": "stdout",
     "output_type": "stream",
     "text": [
      "Valor Inexistente: inser\n",
      "Operação Realizada: inser\n",
      "Banco:\n",
      "{}\n",
      "---------------------------\n",
      "Operação Realizada: insert\n",
      "Banco:\n",
      "{'lucas@': {'nome': 'lucas', 'idade': 1, 'altura': 1.0}}\n",
      "---------------------------\n",
      "Operação Realizada: insert\n",
      "Banco:\n",
      "{'lucas@': {'nome': 'lucas', 'idade': 1, 'altura': 1.0}, 'jota': {'nome': 'gab', 'idade': 5, 'altura': 5.0}}\n",
      "---------------------------\n",
      "lucas@\n",
      "Operação Realizada: search\n",
      "Banco:\n",
      "{'lucas@': {'nome': 'lucas', 'idade': 1, 'altura': 1.0}, 'jota': {'nome': 'gab', 'idade': 5, 'altura': 5.0}}\n",
      "---------------------------\n",
      "jota\n",
      "Operação Realizada: search\n",
      "Banco:\n",
      "{'lucas@': {'nome': 'lucas', 'idade': 1, 'altura': 1.0}, 'jota': {'nome': 'gab', 'idade': 5, 'altura': 5.0}}\n",
      "---------------------------\n",
      "Operação Realizada: close\n",
      "Banco:\n",
      "{'lucas@': {'nome': 'lucas', 'idade': 1, 'altura': 1.0}, 'jota': {'nome': 'gab', 'idade': 5, 'altura': 5.0}}\n",
      "---------------------------\n"
     ]
    }
   ],
   "source": [
    "def insert(dados={}):\n",
    "    email = input(\"Digite o e-mail: \")\n",
    "    nome = input(\"Digite o nome: \")\n",
    "    idade = int(input(\"Digite sua idade: \"))\n",
    "    altura = float(input(\"Digite a sua altura: \"))\n",
    "    dados[email] = {\n",
    "        \"nome\": nome,\n",
    "        \"idade\": idade,\n",
    "        \"altura\": altura\n",
    "    }\n",
    "\n",
    "    return dados\n",
    "\n",
    "def delete(dados, key):\n",
    "    old = dados[key]\n",
    "    del dados[key]\n",
    "    return old\n",
    "\n",
    "def search(dados, name):\n",
    "    for account in dados:\n",
    "        if dados[account][\"nome\"] == name:\n",
    "            print(account)\n",
    "        \n",
    "def main():\n",
    "    db = {}\n",
    "    close = False\n",
    "    while close != True:\n",
    "        opt = input(\"Opções: \\n| insert \\n| delete \\n| search\\n| close \\n=> \")\n",
    "        match opt:\n",
    "            case \"insert\":\n",
    "                insert(db)\n",
    "            case \"delete\":\n",
    "                delete(db, input(\"Digite email para deletar: \"))\n",
    "            case \"search\":\n",
    "                search(db, input(\"Digite o nome que deseja buscar: \"))\n",
    "            case \"close\":\n",
    "                close = True\n",
    "            case _:\n",
    "                print(\"Valor Inexistente:\", opt)\n",
    "        print(\"Operação Realizada:\", opt)\n",
    "        print(\"Banco:\")\n",
    "        print(db)\n",
    "        print(\"---------------------------\")\n",
    "    \n",
    "main()"
   ]
  }
 ],
 "metadata": {
  "kernelspec": {
   "display_name": "venv",
   "language": "python",
   "name": "python3"
  },
  "language_info": {
   "codemirror_mode": {
    "name": "ipython",
    "version": 3
   },
   "file_extension": ".py",
   "mimetype": "text/x-python",
   "name": "python",
   "nbconvert_exporter": "python",
   "pygments_lexer": "ipython3",
   "version": "3.11.2"
  }
 },
 "nbformat": 4,
 "nbformat_minor": 2
}
